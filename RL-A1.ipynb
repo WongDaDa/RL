{
 "cells": [
  {
   "cell_type": "code",
   "execution_count": 94,
   "metadata": {},
   "outputs": [],
   "source": [
    "import numpy as np"
   ]
  },
  {
   "cell_type": "code",
   "execution_count": 69,
   "metadata": {},
   "outputs": [],
   "source": [
    "class HexBoard:\n",
    "    BLUE = 1\n",
    "    RED = 2\n",
    "    EMPTY = 3\n",
    "    def __init__(self, board_size):\n",
    "        self.board = {}\n",
    "        self.size = board_size\n",
    "        self.game_over = False\n",
    "        for x in range(board_size):\n",
    "            for y in range (board_size):\n",
    "                self.board[x,y] = HexBoard.EMPTY\n",
    "    def is_game_over(self):\n",
    "        return self.game_over\n",
    "    def is_empty(self, coordinates):\n",
    "        return self.board[coordinates] == HexBoard.EMPTY\n",
    "    def is_color(self, coordinates, color):\n",
    "        return self.board[coordinates] == color\n",
    "    def get_color(self, coordinates):\n",
    "        if coordinates == (-1,-1):\n",
    "            return HexBoard.EMPTY\n",
    "        return self.board[coordinates]\n",
    "    def place(self, coordinates, color):\n",
    "        if not self.game_over and self.board[coordinates] == HexBoard.EMPTY:\n",
    "            self.board[coordinates] = color\n",
    "        if self.check_win(HexBoard.RED) or self.check_win(HexBoard.BLUE):\n",
    "            self.game_over = True\n",
    "    def get_opposite_color(self, current_color):\n",
    "        if current_color == HexBoard.BLUE:\n",
    "            return HexBoard.RED\n",
    "        return HexBoard.BLUE\n",
    "    def get_neighbors(self, coordinates):\n",
    "        (cx,cy) = coordinates\n",
    "        neighbors = []\n",
    "        if cx-1>=0:   neighbors.append((cx-1,cy))\n",
    "        if cx+1<self.size: neighbors.append((cx+1,cy))\n",
    "        if cx-1>=0    and cy+1<=self.size-1: neighbors.append((cx-1,cy+1))\n",
    "        if cx+1<self.size  and cy-1>=0: neighbors.append((cx+1,cy-1))\n",
    "        if cy+1<self.size: neighbors.append((cx,cy+1))\n",
    "        if cy-1>=0:   neighbors.append((cx,cy-1))\n",
    "        return neighbors\n",
    "    def border(self, color, move):\n",
    "        (nx, ny) = move\n",
    "        return (color == HexBoard.BLUE and nx == self.size-1) or (color == HexBoard.RED and ny == self.size-1)\n",
    "    def traverse(self, color, move, visited):\n",
    "        if not self.is_color(move, color) or (move in visited and visited[move]): return False\n",
    "        if self.border(color, move): return True\n",
    "        visited[move] = True\n",
    "        for n in self.get_neighbors(move):\n",
    "            if self.traverse(color, n, visited): return True\n",
    "        return False\n",
    "    def check_win(self, color):\n",
    "        for i in range(self.size):\n",
    "            if color == HexBoard.BLUE: move = (0,i)\n",
    "            else: move = (i,0)\n",
    "            if self.traverse(color, move, {}):\n",
    "                return True\n",
    "        return False\n",
    "    def print(self):\n",
    "        print(\"   \",end=\"\")\n",
    "        for y in range(self.size):\n",
    "            print(chr(y+ord('a')),\"\",end=\"\")\n",
    "        print(\"\")\n",
    "        print(\" -----------------------\")\n",
    "        for y in range(self.size):\n",
    "            print(y, \"|\",end=\"\")\n",
    "            for z in range(y):\n",
    "                print(\" \", end=\"\")\n",
    "            for x in range(self.size):\n",
    "                piece = self.board[x,y]\n",
    "                if piece == HexBoard.BLUE: print(\"b \",end=\"\")\n",
    "                elif piece == HexBoard.RED: print(\"r \",end=\"\")\n",
    "                else:\n",
    "                    if x==self.size:\n",
    "                        print(\"-\",end=\"\")\n",
    "                    else:\n",
    "                        print(\"- \",end=\"\")\n",
    "            print(\"|\")\n",
    "        print(\"   -----------------------\")\n"
   ]
  },
  {
   "cell_type": "code",
   "execution_count": 70,
   "metadata": {},
   "outputs": [],
   "source": [
    "class Node:\n",
    "    \n",
    "    def __init__(self,initType=None,initName=None):\n",
    "        self.nodeType = initType\n",
    "        self.nodeName = initName\n",
    "        self.parent = None\n",
    "        self.children = []\n",
    "        \n",
    "    def setNodeType(self,nodeType):\n",
    "        self.nodeType = nodeType\n",
    "        \n",
    "    def getNodeType(self):\n",
    "        return self.nodeType\n",
    "    \n",
    "    def setNodeName(self,nodeName):\n",
    "        self.nodeName = nodeName\n",
    "    \n",
    "    def getNodeName(self):\n",
    "        return self.nodeName\n",
    "    \n",
    "    def setNodeChild(self,children):\n",
    "        self.children = children\n",
    "        \n",
    "    def addNodeChild(self,child):\n",
    "        self.children.append(child)\n",
    "        \n",
    "    def getNodeChildren(self):\n",
    "        return self.children\n",
    "    \n",
    "    def setNodeParent(self,parent):\n",
    "        self.parent = parent\n",
    "        \n",
    "    def getNodeParent(self):\n",
    "        return self.parent\n",
    "        \n",
    "    "
   ]
  },
  {
   "cell_type": "code",
   "execution_count": null,
   "metadata": {},
   "outputs": [],
   "source": [
    "def evaluation():\n",
    "    return np.randint(0,10)"
   ]
  },
  {
   "cell_type": "code",
   "execution_count": 71,
   "metadata": {},
   "outputs": [],
   "source": [
    "INF = 999\n",
    "def Alphabeta(node,alpha,beta,depth):\n",
    "    if depth <= 0:\n",
    "        return evaluation(node)\n",
    "    elif node.getNodeType() == 'MAX':\n",
    "        g = -INF\n",
    "        for child in node.getNodeChildren():\n",
    "            g = max(g, Alphabeta(child,alpha,beta,depth-1))\n",
    "            alpha = max(alpha,g)\n",
    "            if alpha>=beta:\n",
    "                break\n",
    "    elif node.getNodeType == 'MIN':\n",
    "        g = INF\n",
    "        for child in node.getNodeChildren():\n",
    "            g = min(g, Alphabeta(child,alpha,beta,depth-1))\n",
    "            beta = min(beta.g)\n",
    "            if alpha >=beta:\n",
    "                break\n",
    "    return g"
   ]
  },
  {
   "cell_type": "code",
   "execution_count": 73,
   "metadata": {},
   "outputs": [],
   "source": [
    "board = HexBoard(11)"
   ]
  },
  {
   "cell_type": "code",
   "execution_count": 93,
   "metadata": {},
   "outputs": [],
   "source": [
    "def get_keys(d, val):\n",
    "    return [k for k,v in d.items() if v == val]"
   ]
  },
  {
   "cell_type": "code",
   "execution_count": 72,
   "metadata": {},
   "outputs": [
    {
     "ename": "SyntaxError",
     "evalue": "invalid syntax (<ipython-input-72-514aa232d14d>, line 1)",
     "output_type": "error",
     "traceback": [
      "\u001b[1;36m  File \u001b[1;32m\"<ipython-input-72-514aa232d14d>\"\u001b[1;36m, line \u001b[1;32m1\u001b[0m\n\u001b[1;33m    def nodeGenerator()\u001b[0m\n\u001b[1;37m                       ^\u001b[0m\n\u001b[1;31mSyntaxError\u001b[0m\u001b[1;31m:\u001b[0m invalid syntax\n"
     ]
    }
   ],
   "source": [
    "def nodeGenerator(unvisitedNodes,depth):\n",
    "    "
   ]
  },
  {
   "cell_type": "code",
   "execution_count": null,
   "metadata": {},
   "outputs": [],
   "source": []
  }
 ],
 "metadata": {
  "kernelspec": {
   "display_name": "Python 3",
   "language": "python",
   "name": "python3"
  },
  "language_info": {
   "codemirror_mode": {
    "name": "ipython",
    "version": 3
   },
   "file_extension": ".py",
   "mimetype": "text/x-python",
   "name": "python",
   "nbconvert_exporter": "python",
   "pygments_lexer": "ipython3",
   "version": "3.8.0"
  }
 },
 "nbformat": 4,
 "nbformat_minor": 4
}
